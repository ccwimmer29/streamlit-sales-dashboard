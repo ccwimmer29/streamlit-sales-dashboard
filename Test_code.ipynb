{
 "cells": [
  {
   "cell_type": "code",
   "execution_count": 1,
   "id": "edb82263-c5a1-4464-bbed-e8013eb8451b",
   "metadata": {},
   "outputs": [
    {
     "name": "stdout",
     "output_type": "stream",
     "text": [
      "CSV file 'sample_companies.csv' created successfully!\n"
     ]
    }
   ],
   "source": [
    "import pandas as pd\n",
    "\n",
    "# Create the sample data\n",
    "data = {\n",
    "    \"Company name\": [\n",
    "        \"Alpha Corp\", \"Beta LLC\", \"Gamma Inc\", \"Delta Ltd\", \"Epsilon Co\",\n",
    "        \"Zeta Group\", \"Eta Partners\", \"Theta Solutions\", \"Iota Services\", \"Kappa Holdings\"\n",
    "    ],\n",
    "    \"Tier\": [\n",
    "        \"Tier 1\", \"Tier 2\", \"Tier 3\", \"Tier 1\", \"Tier 2\",\n",
    "        \"Tier 3\", \"Tier 1\", \"Tier 2\", \"Tier 3\", \"Tier 1\"\n",
    "    ],\n",
    "    \"Capacity\": [500, 300, 100, 450, 275, 125, 520, 310, 90, 600],\n",
    "    \"Assets\": [12, 8, 3, 10, 6, 4, 15, 9, 2, 18]\n",
    "}\n",
    "\n",
    "df = pd.DataFrame(data)\n",
    "\n",
    "# Save to CSV in the current notebook directory\n",
    "df.to_csv(\"companies.csv\", index=False)\n",
    "\n",
    "print(\"CSV file 'sample_companies.csv' created successfully!\")\n"
   ]
  }
 ],
 "metadata": {
  "kernelspec": {
   "display_name": "Python 3 (ipykernel)",
   "language": "python",
   "name": "python3"
  },
  "language_info": {
   "codemirror_mode": {
    "name": "ipython",
    "version": 3
   },
   "file_extension": ".py",
   "mimetype": "text/x-python",
   "name": "python",
   "nbconvert_exporter": "python",
   "pygments_lexer": "ipython3",
   "version": "3.11.11"
  }
 },
 "nbformat": 4,
 "nbformat_minor": 5
}
